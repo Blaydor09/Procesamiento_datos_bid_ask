{
  "nbformat": 4,
  "nbformat_minor": 0,
  "metadata": {
    "colab": {
      "provenance": [],
      "authorship_tag": "ABX9TyN+LkKXIQfEL8gTMtntIz5N",
      "include_colab_link": true
    },
    "kernelspec": {
      "name": "python3",
      "display_name": "Python 3"
    },
    "language_info": {
      "name": "python"
    }
  },
  "cells": [
    {
      "cell_type": "markdown",
      "metadata": {
        "id": "view-in-github",
        "colab_type": "text"
      },
      "source": [
        "<a href=\"https://colab.research.google.com/github/Blaydor09/Procesamiento_datos_bid_ask/blob/main/Precesamiento_de_datos.ipynb\" target=\"_parent\"><img src=\"https://colab.research.google.com/assets/colab-badge.svg\" alt=\"Open In Colab\"/></a>"
      ]
    },
    {
      "cell_type": "code",
      "source": [
        "import dask.dataframe as dd\n",
        "from dask.diagnostics import ProgressBar\n",
        "\n",
        "def merge_order_filter(bid_path, ask_path, output_path):\n",
        "    \"\"\"\n",
        "    Función que:\n",
        "    - Lee los archivos BID y ASK.\n",
        "    - Convierte la columna 'Gmt time' a datetime (formato día/mes/año).\n",
        "    - Renombra las columnas para diferenciarlas.\n",
        "    - Elimina la columna original 'Gmt time'.\n",
        "    - Fusiona (inner join) ambos DataFrames por 'timestamp'.\n",
        "    - Ordena por fecha.\n",
        "    - Filtra las filas eliminando aquellas en las que volume_bid o volume_ask sean 0.\n",
        "    - Guarda el resultado en el archivo CSV especificado.\n",
        "    \"\"\"\n",
        "    # Leer los archivos CSV usando Dask\n",
        "    df_bid = dd.read_csv(bid_path)\n",
        "    df_ask = dd.read_csv(ask_path)\n",
        "\n",
        "    # Convertir 'Gmt time' a datetime (formato día/mes/año)\n",
        "    df_bid['timestamp'] = dd.to_datetime(df_bid['Gmt time'], dayfirst=True)\n",
        "    df_ask['timestamp'] = dd.to_datetime(df_ask['Gmt time'], dayfirst=True)\n",
        "\n",
        "    # Renombrar las columnas para BID y ASK\n",
        "    df_bid = df_bid.rename(columns={\n",
        "        \"Open\": \"open_bid\",\n",
        "        \"High\": \"high_bid\",\n",
        "        \"Low\": \"low_bid\",\n",
        "        \"Close\": \"close_bid\",\n",
        "        \"Volume\": \"volume_bid\"\n",
        "    })\n",
        "    df_ask = df_ask.rename(columns={\n",
        "        \"Open\": \"open_ask\",\n",
        "        \"High\": \"high_ask\",\n",
        "        \"Low\": \"low_ask\",\n",
        "        \"Close\": \"close_ask\",\n",
        "        \"Volume\": \"volume_ask\"\n",
        "    })\n",
        "\n",
        "    # Eliminar la columna 'Gmt time' ya que usamos 'timestamp'\n",
        "    df_bid = df_bid.drop(\"Gmt time\", axis=1)\n",
        "    df_ask = df_ask.drop(\"Gmt time\", axis=1)\n",
        "\n",
        "    # Unir ambos DataFrames por 'timestamp'\n",
        "    df_merged = dd.merge(df_bid, df_ask, on=\"timestamp\", how=\"inner\")\n",
        "\n",
        "    # Ordenar por 'timestamp'\n",
        "    df_merged = df_merged.set_index(\"timestamp\").reset_index()\n",
        "\n",
        "    # Filtrar filas donde volume_bid y volume_ask sean diferentes de 0\n",
        "    df_filtrado = df_merged[(df_merged['volume_bid'] != 0) & (df_merged['volume_ask'] != 0)]\n",
        "\n",
        "    # Guardar el DataFrame filtrado en un nuevo archivo CSV\n",
        "    with ProgressBar():\n",
        "        df_filtrado.compute().to_csv(output_path, index=False)\n",
        "\n",
        "    print(\"✅ Datos combinados y filtrados guardados en:\", output_path)\n",
        "\n",
        "#=======================================\n",
        "# Datos de 15 minutos\n",
        "#=======================================\n",
        "bid_path_15 = \"/content/EURUSD_Candlestick_15_m_BID_30.12.2021-30.12.2024.csv\"\n",
        "ask_path_15 = \"/content/EURUSD_Candlestick_15_m_ASK_30.12.2021-30.12.2024.csv\"\n",
        "output_path_15 = \"/content/merged_bid_ask_15_min_filtrado.csv\"\n",
        "merge_order_filter(bid_path_15, ask_path_15, output_path_15)\n",
        "\n",
        "#=======================================\n",
        "# Datos de 1 Hora\n",
        "#=======================================\n",
        "bid_path_1h = \"/content/EURUSD_Candlestick_1_h_BID_30.12.2021-30.12.2024.csv\"\n",
        "ask_path_1h = \"/content/EURUSD_Candlestick_1_h_ASK_30.12.2021-30.12.2024.csv\"\n",
        "output_path_1h = \"/content/merged_bid_ask_1_hora_filtrado.csv\"\n",
        "merge_order_filter(bid_path_1h, ask_path_1h, output_path_1h)\n",
        "\n",
        "#=======================================\n",
        "# Datos de 1 Día\n",
        "#=======================================\n",
        "bid_path_1d = \"/content/EURUSD_Candlestick_1_D_BID_30.12.2021-30.12.2024.csv\"\n",
        "ask_path_1d = \"/content/EURUSD_Candlestick_1_D_ASK_30.12.2021-30.12.2024.csv\"\n",
        "output_path_1d = \"/content/merged_bid_ask_1_dia_filtrado.csv\"\n",
        "merge_order_filter(bid_path_1d, ask_path_1d, output_path_1d)\n"
      ],
      "metadata": {
        "colab": {
          "base_uri": "https://localhost:8080/"
        },
        "id": "czO6cCz7FVr4",
        "outputId": "7a444d72-0ac4-47e5-cc5a-f725008c01fe"
      },
      "execution_count": null,
      "outputs": [
        {
          "output_type": "stream",
          "name": "stdout",
          "text": [
            "[########################################] | 100% Completed | 1.33 s\n",
            "✅ Datos combinados y filtrados guardados en: /content/merged_bid_ask_15_min_filtrado.csv\n",
            "[########################################] | 100% Completed | 389.89 ms\n",
            "✅ Datos combinados y filtrados guardados en: /content/merged_bid_ask_1_hora_filtrado.csv\n",
            "[########################################] | 100% Completed | 102.36 ms\n",
            "✅ Datos combinados y filtrados guardados en: /content/merged_bid_ask_1_dia_filtrado.csv\n"
          ]
        }
      ]
    },
    {
      "cell_type": "code",
      "source": [
        "import pandas as pd\n",
        "\n",
        "# Cargar el archivo filtrado\n",
        "file_path = \"/content/merged_bid_ask_1_dia_filtrado.csv\"\n",
        "df = pd.read_csv(file_path)\n",
        "\n",
        "# Verificar valores nulos y valores 0\n",
        "null_counts = df.isnull().sum()\n",
        "zero_counts = (df == 0).sum()\n",
        "\n",
        "print(\"Valores nulos en cada columna:\")\n",
        "print(null_counts)\n",
        "\n",
        "print(\"\\nValores 0 en cada columna:\")\n",
        "print(zero_counts)\n"
      ],
      "metadata": {
        "colab": {
          "base_uri": "https://localhost:8080/"
        },
        "id": "c4bCY-T4GXqF",
        "outputId": "0459c9bc-16fa-488f-e085-ec956d40ad72"
      },
      "execution_count": null,
      "outputs": [
        {
          "output_type": "stream",
          "name": "stdout",
          "text": [
            "Valores nulos en cada columna:\n",
            "timestamp     0\n",
            "open_bid      0\n",
            "high_bid      0\n",
            "low_bid       0\n",
            "close_bid     0\n",
            "volume_bid    0\n",
            "open_ask      0\n",
            "high_ask      0\n",
            "low_ask       0\n",
            "close_ask     0\n",
            "volume_ask    0\n",
            "dtype: int64\n",
            "\n",
            "Valores 0 en cada columna:\n",
            "timestamp     0\n",
            "open_bid      0\n",
            "high_bid      0\n",
            "low_bid       0\n",
            "close_bid     0\n",
            "volume_bid    0\n",
            "open_ask      0\n",
            "high_ask      0\n",
            "low_ask       0\n",
            "close_ask     0\n",
            "volume_ask    0\n",
            "dtype: int64\n"
          ]
        }
      ]
    },
    {
      "cell_type": "markdown",
      "source": [
        ">Comprobar que no existan datos con valores null o 0"
      ],
      "metadata": {
        "id": "FX5TKe8lRgke"
      }
    },
    {
      "cell_type": "code",
      "source": [
        "# crear una carpeta\n",
        "!mkdir -p /content/datos_procesados_merged"
      ],
      "metadata": {
        "id": "ym6QomXJRScU"
      },
      "execution_count": null,
      "outputs": []
    },
    {
      "cell_type": "code",
      "source": [
        "#Crear archivo zip\n",
        "!zip -r /content/datos_procesados_merged_v1.zip /content/datos_procesados_merged"
      ],
      "metadata": {
        "colab": {
          "base_uri": "https://localhost:8080/"
        },
        "id": "RkTSNaFDSNqI",
        "outputId": "0a80e3cc-e896-4c99-f593-37f9b46a49e6"
      },
      "execution_count": null,
      "outputs": [
        {
          "output_type": "stream",
          "name": "stdout",
          "text": [
            "  adding: content/datos_procesados_merged/ (stored 0%)\n",
            "  adding: content/datos_procesados_merged/merged_bid_ask_15_min_filtrado.csv (deflated 73%)\n",
            "  adding: content/datos_procesados_merged/merged_bid_ask_1_dia_filtrado.csv (deflated 64%)\n",
            "  adding: content/datos_procesados_merged/merged_bid_ask_1_hora_filtrado.csv (deflated 70%)\n"
          ]
        }
      ]
    }
  ]
}